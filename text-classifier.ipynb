{
 "cells": [
  {
   "cell_type": "markdown",
   "id": "72a31d87",
   "metadata": {},
   "source": [
    "# LAB 15: text-classifier"
   ]
  },
  {
   "cell_type": "code",
   "execution_count": 13,
   "id": "472ae3a0",
   "metadata": {},
   "outputs": [],
   "source": [
    "import pandas as pd\n",
    "import numpy as np\n",
    "from sklearn.feature_extraction.text import CountVectorizer\n",
    "from sklearn.model_selection import train_test_split\n",
    "from sklearn.linear_model import LogisticRegression"
   ]
  },
  {
   "cell_type": "code",
   "execution_count": 2,
   "id": "141a28d3",
   "metadata": {},
   "outputs": [
    {
     "data": {
      "text/html": [
       "<div>\n",
       "<style scoped>\n",
       "    .dataframe tbody tr th:only-of-type {\n",
       "        vertical-align: middle;\n",
       "    }\n",
       "\n",
       "    .dataframe tbody tr th {\n",
       "        vertical-align: top;\n",
       "    }\n",
       "\n",
       "    .dataframe thead th {\n",
       "        text-align: right;\n",
       "    }\n",
       "</style>\n",
       "<table border=\"1\" class=\"dataframe\">\n",
       "  <thead>\n",
       "    <tr style=\"text-align: right;\">\n",
       "      <th></th>\n",
       "      <th>sentence</th>\n",
       "      <th>label</th>\n",
       "      <th>source</th>\n",
       "    </tr>\n",
       "  </thead>\n",
       "  <tbody>\n",
       "    <tr>\n",
       "      <th>0</th>\n",
       "      <td>A very, very, very slow-moving, aimless movie ...</td>\n",
       "      <td>0</td>\n",
       "      <td>imdb</td>\n",
       "    </tr>\n",
       "    <tr>\n",
       "      <th>1</th>\n",
       "      <td>Not sure who was more lost - the flat characte...</td>\n",
       "      <td>0</td>\n",
       "      <td>imdb</td>\n",
       "    </tr>\n",
       "    <tr>\n",
       "      <th>2</th>\n",
       "      <td>Attempting artiness with black &amp; white and cle...</td>\n",
       "      <td>0</td>\n",
       "      <td>imdb</td>\n",
       "    </tr>\n",
       "    <tr>\n",
       "      <th>3</th>\n",
       "      <td>Very little music or anything to speak of.</td>\n",
       "      <td>0</td>\n",
       "      <td>imdb</td>\n",
       "    </tr>\n",
       "    <tr>\n",
       "      <th>4</th>\n",
       "      <td>The best scene in the movie was when Gerardo i...</td>\n",
       "      <td>1</td>\n",
       "      <td>imdb</td>\n",
       "    </tr>\n",
       "    <tr>\n",
       "      <th>...</th>\n",
       "      <td>...</td>\n",
       "      <td>...</td>\n",
       "      <td>...</td>\n",
       "    </tr>\n",
       "    <tr>\n",
       "      <th>995</th>\n",
       "      <td>I think food should have flavor and texture an...</td>\n",
       "      <td>0</td>\n",
       "      <td>yelp</td>\n",
       "    </tr>\n",
       "    <tr>\n",
       "      <th>996</th>\n",
       "      <td>Appetite instantly gone.</td>\n",
       "      <td>0</td>\n",
       "      <td>yelp</td>\n",
       "    </tr>\n",
       "    <tr>\n",
       "      <th>997</th>\n",
       "      <td>Overall I was not impressed and would not go b...</td>\n",
       "      <td>0</td>\n",
       "      <td>yelp</td>\n",
       "    </tr>\n",
       "    <tr>\n",
       "      <th>998</th>\n",
       "      <td>The whole experience was underwhelming, and I ...</td>\n",
       "      <td>0</td>\n",
       "      <td>yelp</td>\n",
       "    </tr>\n",
       "    <tr>\n",
       "      <th>999</th>\n",
       "      <td>Then, as if I hadn't wasted enough of my life ...</td>\n",
       "      <td>0</td>\n",
       "      <td>yelp</td>\n",
       "    </tr>\n",
       "  </tbody>\n",
       "</table>\n",
       "<p>2748 rows × 3 columns</p>\n",
       "</div>"
      ],
      "text/plain": [
       "                                              sentence  label source\n",
       "0    A very, very, very slow-moving, aimless movie ...      0   imdb\n",
       "1    Not sure who was more lost - the flat characte...      0   imdb\n",
       "2    Attempting artiness with black & white and cle...      0   imdb\n",
       "3         Very little music or anything to speak of.        0   imdb\n",
       "4    The best scene in the movie was when Gerardo i...      1   imdb\n",
       "..                                                 ...    ...    ...\n",
       "995  I think food should have flavor and texture an...      0   yelp\n",
       "996                           Appetite instantly gone.      0   yelp\n",
       "997  Overall I was not impressed and would not go b...      0   yelp\n",
       "998  The whole experience was underwhelming, and I ...      0   yelp\n",
       "999  Then, as if I hadn't wasted enough of my life ...      0   yelp\n",
       "\n",
       "[2748 rows x 3 columns]"
      ]
     },
     "execution_count": 2,
     "metadata": {},
     "output_type": "execute_result"
    }
   ],
   "source": [
    "data_dict = {\"imdb\":\"./archive/imdb_labelled.txt\",\n",
    "             \"amazon\":\"./archive/amazon_cells_labelled.txt\",\n",
    "             \"yelp\":\"./archive/yelp_labelled.txt\"}\n",
    "\n",
    "df_list = []\n",
    "for source,path in data_dict.items():\n",
    "    df = pd.read_csv(path, sep='\\t', names=['sentence', 'label'])\n",
    "    df['source'] = source\n",
    "    df_list.append(df)\n",
    "df = pd.concat(df_list)\n",
    "df"
   ]
  },
  {
   "cell_type": "code",
   "execution_count": 3,
   "id": "e3190dbf",
   "metadata": {},
   "outputs": [
    {
     "data": {
      "text/plain": [
       "array(['imdb', 'amazon', 'yelp'], dtype=object)"
      ]
     },
     "execution_count": 3,
     "metadata": {},
     "output_type": "execute_result"
    }
   ],
   "source": [
    "sources = df['source'].unique()\n",
    "sources"
   ]
  },
  {
   "cell_type": "code",
   "execution_count": 4,
   "id": "a1ff8c58",
   "metadata": {},
   "outputs": [],
   "source": [
    "df_list=[]\n",
    "for source in sources:\n",
    "    df_list.append(df[df['source']==source])\n",
    "\n",
    "sentences=[]\n",
    "y=[]\n",
    "for df in df_list:\n",
    "    sentences.append(df['sentence'].values)\n",
    "    y.append(df['label'].values)\n"
   ]
  },
  {
   "cell_type": "code",
   "execution_count": 63,
   "id": "84ffc500",
   "metadata": {},
   "outputs": [
    {
     "name": "stdout",
     "output_type": "stream",
     "text": [
      "Accuracy for imdb data : 0.7866666666666666\n",
      "I must say I have taped most of the episodes and i find myself watching them over and over again.  \n",
      "[1] \n",
      "\n",
      "Accuracy for amazon data : 0.8\n",
      "Beautiful styling though.\n",
      "[1] \n",
      "\n",
      "Accuracy for yelp data : 0.785\n",
      "Hell no will I go back\n",
      "[0] \n",
      "\n"
     ]
    }
   ],
   "source": [
    "models=[]\n",
    "for i in range(3):\n",
    "    sentences_train,sentences_test,y_train,y_test = train_test_split(sentences[i],y[i],test_size=0.2,random_state=1000)\n",
    "    vectorizer = CountVectorizer()\n",
    "    vectorizer.fit(sentences_train)\n",
    "    X_train = vectorizer.transform(sentences_train)\n",
    "    X_test = vectorizer.transform(sentences_test)\n",
    "    \n",
    "    classifier = LogisticRegression()\n",
    "    classifier.fit(X_train,y_train)\n",
    "    print(f'Accuracy for {sources[i]} data : {classifier.score(X_test,y_test)}')\n",
    "    print(sentences_test[0])\n",
    "    print(classifier.predict(X_test[0]),'\\n')"
   ]
  },
  {
   "cell_type": "markdown",
   "id": "00bcb292",
   "metadata": {},
   "source": [
    "#### seems that amazon data is the best here"
   ]
  }
 ],
 "metadata": {
  "kernelspec": {
   "display_name": "Python 3",
   "language": "python",
   "name": "python3"
  },
  "language_info": {
   "codemirror_mode": {
    "name": "ipython",
    "version": 3
   },
   "file_extension": ".py",
   "mimetype": "text/x-python",
   "name": "python",
   "nbconvert_exporter": "python",
   "pygments_lexer": "ipython3",
   "version": "3.8.8"
  }
 },
 "nbformat": 4,
 "nbformat_minor": 5
}
